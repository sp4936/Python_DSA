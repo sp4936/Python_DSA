{
 "cells": [
  {
   "cell_type": "code",
   "execution_count": 1,
   "id": "ce0c28ec",
   "metadata": {},
   "outputs": [
    {
     "name": "stdout",
     "output_type": "stream",
     "text": [
      "Enter a StringSuraj\n"
     ]
    }
   ],
   "source": [
    "str = input(\"Enter a String\")"
   ]
  },
  {
   "cell_type": "code",
   "execution_count": 3,
   "id": "6ae9a55b",
   "metadata": {},
   "outputs": [],
   "source": [
    "i = len(str) - 1"
   ]
  },
  {
   "cell_type": "code",
   "execution_count": 4,
   "id": "3cef0b20",
   "metadata": {},
   "outputs": [],
   "source": [
    "lst = []"
   ]
  },
  {
   "cell_type": "code",
   "execution_count": 5,
   "id": "bccb3870",
   "metadata": {},
   "outputs": [],
   "source": [
    "while(i>=0):\n",
    "    lst.append(str[i])\n",
    "    i -= 1"
   ]
  },
  {
   "cell_type": "code",
   "execution_count": 6,
   "id": "f725ea5a",
   "metadata": {},
   "outputs": [
    {
     "name": "stdout",
     "output_type": "stream",
     "text": [
      "['j', 'a', 'r', 'u', 'S']\n"
     ]
    }
   ],
   "source": [
    "print(lst)"
   ]
  },
  {
   "cell_type": "code",
   "execution_count": 10,
   "id": "a7de2f67",
   "metadata": {},
   "outputs": [
    {
     "name": "stdout",
     "output_type": "stream",
     "text": [
      "jaruS\n"
     ]
    }
   ],
   "source": [
    "print(''.join(lst))                              # Method 1"
   ]
  },
  {
   "cell_type": "code",
   "execution_count": 11,
   "id": "12cfda70",
   "metadata": {},
   "outputs": [
    {
     "data": {
      "text/plain": [
       "'jaruS'"
      ]
     },
     "execution_count": 11,
     "metadata": {},
     "output_type": "execute_result"
    }
   ],
   "source": [
    "str[::-1]                                        # Method 2"
   ]
  },
  {
   "cell_type": "code",
   "execution_count": null,
   "id": "0f5299eb",
   "metadata": {},
   "outputs": [],
   "source": []
  }
 ],
 "metadata": {
  "kernelspec": {
   "display_name": "Python 3 (ipykernel)",
   "language": "python",
   "name": "python3"
  },
  "language_info": {
   "codemirror_mode": {
    "name": "ipython",
    "version": 3
   },
   "file_extension": ".py",
   "mimetype": "text/x-python",
   "name": "python",
   "nbconvert_exporter": "python",
   "pygments_lexer": "ipython3",
   "version": "3.9.13"
  }
 },
 "nbformat": 4,
 "nbformat_minor": 5
}
